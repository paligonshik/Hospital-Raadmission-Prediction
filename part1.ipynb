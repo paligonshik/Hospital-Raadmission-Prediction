{
 "cells": [
  {
   "cell_type": "markdown",
   "metadata": {},
   "source": [
    "# Course Project \n",
    "<p> <br>\n",
    "Author  - Vazgen Tadevosyan <br></p>\n",
    "\n",
    "For the course project, we will investigate the problem of predicting readmission of hospital patients. Readmission of patients following discharge from hospital places an enormous and very expensive burden on the US healthcare system (estimated at $40B in 2011)<br>\n",
    "Besides administration of hospitals might also be concerned what factors make cause readmission.\n",
    "Keeping that in mind I will try to present feature importances as well.\n",
    "\n",
    "# Content of the project:\n",
    "* [Data reading and initial preprocessing](#Reading-data)\n",
    "    1. The dataset may have duplicates, missing values and other data quality issues that may need to be addressed.  \n",
    "    2. The class variable may need to be derived in some manner.\n",
    "    3.  Understanding the different attributes distribution, and correlation with the class\n",
    "* [Data cleaning](#Data-Cleaning)\n",
    "    1. Making data clean for further analysis\n",
    "    2. Some features may need to be transformed to improve performance\n",
    "\n"
   ]
  },
  {
   "cell_type": "code",
   "execution_count": 1,
   "metadata": {},
   "outputs": [],
   "source": [
    "# \n",
    "import re\n",
    "\n",
    "#for not showing warnings\n",
    "import warnings\n",
    "warnings.filterwarnings('ignore')\n",
    "\n",
    "\n",
    "#data manipulation and visualization libraries\n",
    "import numpy as np\n",
    "import pandas as pd\n",
    "import matplotlib.pyplot as plt\n",
    "import seaborn as sns\n",
    "\n",
    "#libraries for modelling and evaluation\n",
    "from scipy import stats\n",
    "from sklearn.metrics import  roc_curve\n",
    "from sklearn.tree import export_graphviz\n",
    "from sklearn.metrics import roc_auc_score\n",
    "from  sklearn.metrics import recall_score\n",
    "from sklearn.tree import DecisionTreeClassifier\n",
    "from sklearn.model_selection import GridSearchCV\n",
    "from sklearn.metrics import classification_report\n",
    "from sklearn.model_selection import train_test_split\n",
    "from sklearn.ensemble import  RandomForestClassifier\n",
    "from sklearn.model_selection import  cross_val_score\n",
    "from sklearn.linear_model import  LogisticRegression\n",
    "from statsmodels.discrete.discrete_model import Logit \n",
    "from sklearn.ensemble import  GradientBoostingClassifier\n",
    "from sklearn.metrics import confusion_matrix, classification_report\n",
    "#in case of error run <<!pip install>> and run the code again"
   ]
  },
  {
   "cell_type": "markdown",
   "metadata": {},
   "source": [
    "## Reading data"
   ]
  },
  {
   "cell_type": "markdown",
   "metadata": {},
   "source": [
    "Exploring and sanitizing the data"
   ]
  },
  {
   "cell_type": "code",
   "execution_count": 140,
   "metadata": {},
   "outputs": [],
   "source": [
    "for_mapping = pd.read_csv(\"IDs_mapping.csv\")\n",
    "train_data = pd.read_csv(\"diabetic_data_train.csv\")\n",
    "test_data = pd.read_csv('diabetic_data_test.csv')"
   ]
  },
  {
   "cell_type": "markdown",
   "metadata": {},
   "source": [
    "Mapping data is not clean, several columns are merged into one.We need extract that for further use"
   ]
  },
  {
   "cell_type": "code",
   "execution_count": 141,
   "metadata": {
    "scrolled": true
   },
   "outputs": [
    {
     "data": {
      "text/plain": [
       "array(['1', '2', '3', '4', '5', '6', '7', '8', nan,\n",
       "       'discharge_disposition_id', '9', '10', '11', '12', '13', '14',\n",
       "       '15', '16', '17', '18', '19', '20', '21', '22', '23', '24', '25',\n",
       "       '26', '30', '27', '28', '29', 'admission_source_id'], dtype=object)"
      ]
     },
     "execution_count": 141,
     "metadata": {},
     "output_type": "execute_result"
    }
   ],
   "source": [
    "for_mapping['admission_type_id'].unique()"
   ]
  },
  {
   "cell_type": "markdown",
   "metadata": {},
   "source": [
    "In order to switch addmission type values I used IDs_mapping dataset to map names by admission_type Id"
   ]
  },
  {
   "cell_type": "code",
   "execution_count": 142,
   "metadata": {
    "scrolled": true
   },
   "outputs": [
    {
     "name": "stdout",
     "output_type": "stream",
     "text": [
      "discharge_disposition should be column\n",
      "\n",
      "\n"
     ]
    },
    {
     "data": {
      "text/html": [
       "<div>\n",
       "<style scoped>\n",
       "    .dataframe tbody tr th:only-of-type {\n",
       "        vertical-align: middle;\n",
       "    }\n",
       "\n",
       "    .dataframe tbody tr th {\n",
       "        vertical-align: top;\n",
       "    }\n",
       "\n",
       "    .dataframe thead th {\n",
       "        text-align: right;\n",
       "    }\n",
       "</style>\n",
       "<table border=\"1\" class=\"dataframe\">\n",
       "  <thead>\n",
       "    <tr style=\"text-align: right;\">\n",
       "      <th></th>\n",
       "      <th>admission_type_id</th>\n",
       "      <th>description</th>\n",
       "    </tr>\n",
       "  </thead>\n",
       "  <tbody>\n",
       "    <tr>\n",
       "      <th>9</th>\n",
       "      <td>discharge_disposition_id</td>\n",
       "      <td>description</td>\n",
       "    </tr>\n",
       "    <tr>\n",
       "      <th>10</th>\n",
       "      <td>1</td>\n",
       "      <td>Discharged to home</td>\n",
       "    </tr>\n",
       "    <tr>\n",
       "      <th>11</th>\n",
       "      <td>2</td>\n",
       "      <td>Discharged/transferred to another short term h...</td>\n",
       "    </tr>\n",
       "    <tr>\n",
       "      <th>12</th>\n",
       "      <td>3</td>\n",
       "      <td>Discharged/transferred to SNF</td>\n",
       "    </tr>\n",
       "    <tr>\n",
       "      <th>13</th>\n",
       "      <td>4</td>\n",
       "      <td>Discharged/transferred to ICF</td>\n",
       "    </tr>\n",
       "  </tbody>\n",
       "</table>\n",
       "</div>"
      ],
      "text/plain": [
       "           admission_type_id  \\\n",
       "9   discharge_disposition_id   \n",
       "10                         1   \n",
       "11                         2   \n",
       "12                         3   \n",
       "13                         4   \n",
       "\n",
       "                                          description  \n",
       "9                                         description  \n",
       "10                                 Discharged to home  \n",
       "11  Discharged/transferred to another short term h...  \n",
       "12                      Discharged/transferred to SNF  \n",
       "13                      Discharged/transferred to ICF  "
      ]
     },
     "execution_count": 142,
     "metadata": {},
     "output_type": "execute_result"
    }
   ],
   "source": [
    "admission_type_id = for_mapping[:8]\n",
    "discharge_disposition_id = for_mapping[9:40]\n",
    "print('discharge_disposition should be column')\n",
    "print(\"\\n\")\n",
    "discharge_disposition_id.head()"
   ]
  },
  {
   "cell_type": "code",
   "execution_count": 143,
   "metadata": {},
   "outputs": [
    {
     "name": "stdout",
     "output_type": "stream",
     "text": [
      "problem solved\n"
     ]
    },
    {
     "data": {
      "text/html": [
       "<div>\n",
       "<style scoped>\n",
       "    .dataframe tbody tr th:only-of-type {\n",
       "        vertical-align: middle;\n",
       "    }\n",
       "\n",
       "    .dataframe tbody tr th {\n",
       "        vertical-align: top;\n",
       "    }\n",
       "\n",
       "    .dataframe thead th {\n",
       "        text-align: right;\n",
       "    }\n",
       "</style>\n",
       "<table border=\"1\" class=\"dataframe\">\n",
       "  <thead>\n",
       "    <tr style=\"text-align: right;\">\n",
       "      <th></th>\n",
       "      <th>discharge_disposition_id</th>\n",
       "      <th>description</th>\n",
       "    </tr>\n",
       "  </thead>\n",
       "  <tbody>\n",
       "    <tr>\n",
       "      <th>10</th>\n",
       "      <td>1</td>\n",
       "      <td>Discharged to home</td>\n",
       "    </tr>\n",
       "    <tr>\n",
       "      <th>11</th>\n",
       "      <td>2</td>\n",
       "      <td>Discharged/transferred to another short term h...</td>\n",
       "    </tr>\n",
       "    <tr>\n",
       "      <th>12</th>\n",
       "      <td>3</td>\n",
       "      <td>Discharged/transferred to SNF</td>\n",
       "    </tr>\n",
       "    <tr>\n",
       "      <th>13</th>\n",
       "      <td>4</td>\n",
       "      <td>Discharged/transferred to ICF</td>\n",
       "    </tr>\n",
       "    <tr>\n",
       "      <th>14</th>\n",
       "      <td>5</td>\n",
       "      <td>Discharged/transferred to another type of inpa...</td>\n",
       "    </tr>\n",
       "  </tbody>\n",
       "</table>\n",
       "</div>"
      ],
      "text/plain": [
       "   discharge_disposition_id                                        description\n",
       "10                        1                                 Discharged to home\n",
       "11                        2  Discharged/transferred to another short term h...\n",
       "12                        3                      Discharged/transferred to SNF\n",
       "13                        4                      Discharged/transferred to ICF\n",
       "14                        5  Discharged/transferred to another type of inpa..."
      ]
     },
     "execution_count": 143,
     "metadata": {},
     "output_type": "execute_result"
    }
   ],
   "source": [
    "print('problem solved')\n",
    "discharge_disposition_id = discharge_disposition_id.rename(columns = discharge_disposition_id.iloc[0]).drop(discharge_disposition_id.index[0])\n",
    "discharge_disposition_id.head()"
   ]
  },
  {
   "cell_type": "code",
   "execution_count": 144,
   "metadata": {},
   "outputs": [
    {
     "name": "stdout",
     "output_type": "stream",
     "text": [
      "admission_source_id should be column\n",
      "\n",
      "\n"
     ]
    },
    {
     "data": {
      "text/html": [
       "<div>\n",
       "<style scoped>\n",
       "    .dataframe tbody tr th:only-of-type {\n",
       "        vertical-align: middle;\n",
       "    }\n",
       "\n",
       "    .dataframe tbody tr th {\n",
       "        vertical-align: top;\n",
       "    }\n",
       "\n",
       "    .dataframe thead th {\n",
       "        text-align: right;\n",
       "    }\n",
       "</style>\n",
       "<table border=\"1\" class=\"dataframe\">\n",
       "  <thead>\n",
       "    <tr style=\"text-align: right;\">\n",
       "      <th></th>\n",
       "      <th>admission_type_id</th>\n",
       "      <th>description</th>\n",
       "    </tr>\n",
       "  </thead>\n",
       "  <tbody>\n",
       "    <tr>\n",
       "      <th>41</th>\n",
       "      <td>admission_source_id</td>\n",
       "      <td>description</td>\n",
       "    </tr>\n",
       "    <tr>\n",
       "      <th>42</th>\n",
       "      <td>1</td>\n",
       "      <td>Physician Referral</td>\n",
       "    </tr>\n",
       "    <tr>\n",
       "      <th>43</th>\n",
       "      <td>2</td>\n",
       "      <td>Clinic Referral</td>\n",
       "    </tr>\n",
       "    <tr>\n",
       "      <th>44</th>\n",
       "      <td>3</td>\n",
       "      <td>HMO Referral</td>\n",
       "    </tr>\n",
       "    <tr>\n",
       "      <th>45</th>\n",
       "      <td>4</td>\n",
       "      <td>Transfer from a hospital</td>\n",
       "    </tr>\n",
       "  </tbody>\n",
       "</table>\n",
       "</div>"
      ],
      "text/plain": [
       "      admission_type_id               description\n",
       "41  admission_source_id               description\n",
       "42                    1        Physician Referral\n",
       "43                    2           Clinic Referral\n",
       "44                    3              HMO Referral\n",
       "45                    4  Transfer from a hospital"
      ]
     },
     "execution_count": 144,
     "metadata": {},
     "output_type": "execute_result"
    }
   ],
   "source": [
    "admission_source_id = for_mapping[41:]\n",
    "print('admission_source_id should be column')\n",
    "print(\"\\n\")\n",
    "admission_source_id.head()"
   ]
  },
  {
   "cell_type": "code",
   "execution_count": 145,
   "metadata": {},
   "outputs": [
    {
     "name": "stdout",
     "output_type": "stream",
     "text": [
      "problem solved\n"
     ]
    },
    {
     "data": {
      "text/html": [
       "<div>\n",
       "<style scoped>\n",
       "    .dataframe tbody tr th:only-of-type {\n",
       "        vertical-align: middle;\n",
       "    }\n",
       "\n",
       "    .dataframe tbody tr th {\n",
       "        vertical-align: top;\n",
       "    }\n",
       "\n",
       "    .dataframe thead th {\n",
       "        text-align: right;\n",
       "    }\n",
       "</style>\n",
       "<table border=\"1\" class=\"dataframe\">\n",
       "  <thead>\n",
       "    <tr style=\"text-align: right;\">\n",
       "      <th></th>\n",
       "      <th>admission_source_id</th>\n",
       "      <th>description</th>\n",
       "    </tr>\n",
       "  </thead>\n",
       "  <tbody>\n",
       "    <tr>\n",
       "      <th>42</th>\n",
       "      <td>1</td>\n",
       "      <td>Physician Referral</td>\n",
       "    </tr>\n",
       "    <tr>\n",
       "      <th>43</th>\n",
       "      <td>2</td>\n",
       "      <td>Clinic Referral</td>\n",
       "    </tr>\n",
       "    <tr>\n",
       "      <th>44</th>\n",
       "      <td>3</td>\n",
       "      <td>HMO Referral</td>\n",
       "    </tr>\n",
       "    <tr>\n",
       "      <th>45</th>\n",
       "      <td>4</td>\n",
       "      <td>Transfer from a hospital</td>\n",
       "    </tr>\n",
       "    <tr>\n",
       "      <th>46</th>\n",
       "      <td>5</td>\n",
       "      <td>Transfer from a Skilled Nursing Facility (SNF)</td>\n",
       "    </tr>\n",
       "  </tbody>\n",
       "</table>\n",
       "</div>"
      ],
      "text/plain": [
       "   admission_source_id                                      description\n",
       "42                   1                               Physician Referral\n",
       "43                   2                                  Clinic Referral\n",
       "44                   3                                     HMO Referral\n",
       "45                   4                         Transfer from a hospital\n",
       "46                   5   Transfer from a Skilled Nursing Facility (SNF)"
      ]
     },
     "execution_count": 145,
     "metadata": {},
     "output_type": "execute_result"
    }
   ],
   "source": [
    "print('problem solved')\n",
    "admission_source_id = admission_source_id.rename(columns = admission_source_id.iloc[0]).drop(admission_source_id.index[0])\n",
    "admission_source_id.head()"
   ]
  },
  {
   "cell_type": "code",
   "execution_count": 146,
   "metadata": {},
   "outputs": [],
   "source": [
    "\n",
    "def make_dict(dataframe):\n",
    "    \"\"\" We cannot have space and \\\\ lines in our variable becuase it will raise an error later,let's eschew\n",
    "    it now\"\"\"\n",
    "    keys = dataframe.iloc[:,0].tolist()\n",
    "    values = [re.sub(\"[/,\\s]\", '_', i.strip()) for i in dataframe.iloc[:,1].astype(str).tolist()]\n",
    "    return dict(zip(keys,values))\n",
    "\n",
    "\n",
    "type_id = make_dict(admission_type_id)\n",
    "source_id = make_dict(admission_source_id)\n",
    "discharge_id = make_dict(discharge_disposition_id)"
   ]
  },
  {
   "cell_type": "code",
   "execution_count": 147,
   "metadata": {},
   "outputs": [],
   "source": [
    "#mapping descriptions\n",
    "train_data['admission_type_id'] = train_data['admission_type_id'].astype('str').map(type_id)\n",
    "test_data['admission_type_id']  = test_data['admission_type_id'].astype('str').map(type_id)\n",
    "\n",
    "train_data['discharge_disposition_id'] = train_data['discharge_disposition_id'].astype('str').map(discharge_id)\n",
    "test_data['discharge_disposition_id'] = train_data['discharge_disposition_id'].astype('str').map(discharge_id)\n",
    "\n",
    "train_data['admission_source_id'] =train_data['admission_source_id'].astype('str').map(source_id)\n",
    "test_data['admission_source_id'] =train_data['admission_source_id'].astype('str').map(source_id)\n",
    "\n",
    "#renaming columns.\n",
    "train_data.rename({'admission_type_id':'admission_type','discharge_disposition_id':'dischargeDisposition',\n",
    "                  'admission_source_id':'admission_source'},inplace=True,axis=1)\n",
    "test_data.rename({'admission_type_id':'admission_type','discharge_disposition_id':'dischargeDisposition',\n",
    "                  'admission_source_id':'admission_source'},inplace=True,axis=1)\n"
   ]
  },
  {
   "cell_type": "code",
   "execution_count": 148,
   "metadata": {},
   "outputs": [],
   "source": [
    "#makin nan in appropriate format as they were in string format\n",
    "train_data['admission_type'][train_data['admission_type']=='nan']=np.nan\n",
    "train_data['dischargeDisposition'][train_data['dischargeDisposition']=='nan']=np.nan\n",
    "train_data['admission_source'][train_data['admission_source']=='nan']=np.nan\n",
    "\n",
    "\n",
    "test_data['admission_type'][train_data['admission_type']=='nan']=np.nan\n",
    "test_data['dischargeDisposition'][train_data['dischargeDisposition']=='nan']=np.nan\n",
    "test_data['admission_source'][train_data['admission_source']=='nan']=np.nan"
   ]
  },
  {
   "cell_type": "markdown",
   "metadata": {},
   "source": [
    "Once initial data merging is processed let's start to explore and sanite the training data.\n",
    "Note: if something in training data is changed the same should be applied on test data."
   ]
  },
  {
   "cell_type": "markdown",
   "metadata": {},
   "source": [
    "# 1.Exploring and sanitizing the training data\n",
    "- Checking Dataset size\n",
    "- Finding columns with NaN values\n",
    "- Checking whether data has duplicates\n",
    "- Analyzing Distribution of features"
   ]
  },
  {
   "cell_type": "code",
   "execution_count": 149,
   "metadata": {},
   "outputs": [
    {
     "data": {
      "text/plain": [
       "'The training data has 76324 rows and 51 columns'"
      ]
     },
     "execution_count": 149,
     "metadata": {},
     "output_type": "execute_result"
    }
   ],
   "source": [
    "\"The training data has {0} rows and {1} columns\".format(*train_data.shape)"
   ]
  },
  {
   "cell_type": "markdown",
   "metadata": {},
   "source": [
    "The code below shows the columns having missing values"
   ]
  },
  {
   "cell_type": "code",
   "execution_count": 150,
   "metadata": {},
   "outputs": [
    {
     "data": {
      "text/plain": [
       "Index(['race', 'gender', 'weight', 'payer_code', 'medical_specialty', 'diag_1',\n",
       "       'diag_2', 'diag_3', 'max_glu_serum', 'A1Cresult'],\n",
       "      dtype='object')"
      ]
     },
     "execution_count": 150,
     "metadata": {},
     "output_type": "execute_result"
    }
   ],
   "source": [
    "columns_with_na = train_data.columns[train_data[(train_data=='?') | (train_data=='None') | (train_data=='Unknown/Invalid')].any()]\n",
    "columns_with_na"
   ]
  },
  {
   "cell_type": "markdown",
   "metadata": {},
   "source": [
    "We can't use following columns patient_nbr,encounter_id, 'Unnamed: 0', I'll drop them later with other redundant ones if any."
   ]
  },
  {
   "cell_type": "code",
   "execution_count": 151,
   "metadata": {},
   "outputs": [],
   "source": [
    "columns_should_be_dropped = ['patient_nbr','encounter_id', 'Unnamed: 0']\n",
    "def find_columns_with_many_nas(data):\n",
    "    \"\"\"If in a given column missing values are more than 30%\n",
    "    it should be treated as redundant\"\"\"\n",
    "    global columns_should_be_dropped\n",
    "    columns_should_be_dropped.extend([col for col in data.columns if len(data[(data[col]=='?') | (data[col]=='None')])/len(data) >= 0.3])   "
   ]
  },
  {
   "cell_type": "code",
   "execution_count": 152,
   "metadata": {},
   "outputs": [],
   "source": [
    "find_columns_with_many_nas(train_data)"
   ]
  },
  {
   "cell_type": "markdown",
   "metadata": {},
   "source": [
    "Here are the columns that should be dropped as they have more than 30% missing values,"
   ]
  },
  {
   "cell_type": "code",
   "execution_count": 153,
   "metadata": {},
   "outputs": [
    {
     "data": {
      "text/plain": [
       "['patient_nbr',\n",
       " 'encounter_id',\n",
       " 'Unnamed: 0',\n",
       " 'weight',\n",
       " 'payer_code',\n",
       " 'medical_specialty',\n",
       " 'max_glu_serum',\n",
       " 'A1Cresult']"
      ]
     },
     "execution_count": 153,
     "metadata": {},
     "output_type": "execute_result"
    }
   ],
   "source": [
    "columns_should_be_dropped"
   ]
  },
  {
   "cell_type": "markdown",
   "metadata": {},
   "source": [
    "Let's see what other columns are remaining with missing values"
   ]
  },
  {
   "cell_type": "code",
   "execution_count": 154,
   "metadata": {},
   "outputs": [
    {
     "data": {
      "text/plain": [
       "['gender', 'diag_2', 'diag_1', 'diag_3', 'race']"
      ]
     },
     "execution_count": 154,
     "metadata": {},
     "output_type": "execute_result"
    }
   ],
   "source": [
    "list(set(columns_with_na)-set(columns_should_be_dropped))"
   ]
  },
  {
   "cell_type": "markdown",
   "metadata": {},
   "source": [
    "Primary, secondary, final diagnosis have missing values. I'll address race column later"
   ]
  },
  {
   "cell_type": "code",
   "execution_count": 155,
   "metadata": {},
   "outputs": [
    {
     "data": {
      "text/plain": [
       "20"
      ]
     },
     "execution_count": 155,
     "metadata": {},
     "output_type": "execute_result"
    }
   ],
   "source": [
    "train_data[(train_data['diag_1']=='?') | (train_data['diag_1']=='None')].shape[0]\n",
    "#number of missing values in diag1"
   ]
  },
  {
   "cell_type": "code",
   "execution_count": 156,
   "metadata": {},
   "outputs": [
    {
     "data": {
      "text/plain": [
       "276"
      ]
     },
     "execution_count": 156,
     "metadata": {},
     "output_type": "execute_result"
    }
   ],
   "source": [
    "train_data[(train_data['diag_2']=='?') | (train_data['diag_2']=='None')].shape[0]\n",
    "#number of missing values in diag2"
   ]
  },
  {
   "cell_type": "code",
   "execution_count": 157,
   "metadata": {},
   "outputs": [
    {
     "data": {
      "text/plain": [
       "1081"
      ]
     },
     "execution_count": 157,
     "metadata": {},
     "output_type": "execute_result"
    }
   ],
   "source": [
    "train_data[(train_data['diag_3']=='?') | (train_data['diag_3']=='None')].shape[0]\n",
    "#number of missing values in diag3"
   ]
  },
  {
   "cell_type": "markdown",
   "metadata": {},
   "source": [
    "\n",
    "\n",
    "<div class=\"alert alert-block alert-info\">\n",
    "<b>Tip:</b>So we have here a little issue with columns diagnosis, we have too many unique values, note this variables is indeed categorical and it has too many unique values however from the this <a href='https://downloads.hindawi.com/journals/bmri/2014/781670.pdf'>link</a> I find out that we must represent them with these categories as it will be very computationally expensive for classifications to use them in a way they are now.</div>\n",
    "\n",
    "\n",
    "<br><br>Primary diagnosis<br><br>\n",
    "<div class=\"alert alert-block alert-warning\">\n",
    "<b>Variable meanings:</b><br> A disease of the circulatory system (icd9: 390–459, 785)<br>X\n",
    "Diabetes (icd9: 250.xx)<br>\n",
    "A disease of the respiratory system (icd9: 460–519, 786)<br>\n",
    "Diseases of the digestive system (icd9: 520–579, 787)<br> \n",
    "Injury and poisoning (icd9: 800–999)<br>\n",
    "Diseases of the musculoskeletal system and connective tissue (icd9: 710–739)<br> \n",
    "Diseases of the genitourinary system (icd9: 580–629, 788)<br> \n",
    "Neoplasms (icd9: 140–239)<br>\n",
    "Other\n",
    "</div>\n",
    "\n",
    "\n",
    "\n"
   ]
  },
  {
   "cell_type": "markdown",
   "metadata": {},
   "source": [
    "For that purpose we need to make them numeric values, it will facilitate the further mapping process,\n",
    "but let's first create mapping function"
   ]
  },
  {
   "cell_type": "code",
   "execution_count": 158,
   "metadata": {},
   "outputs": [],
   "source": [
    "circulatory_desease = [i for i in list(range(390,460))+[785]]\n",
    "respiratory_desease = [i for i in list(range(460,520))+[786]]\n",
    "digestive_desease = [i for i in list(range(520,580))+[787]]\n",
    "genitourinary_desease = [i for i in list(range(580,630))+[788]]\n",
    "diabete = [250]\n",
    "poisoning_Injury = list(range(800,1000))\n",
    "musculoskeletal_connective_tissue = list(range(710,740))\n",
    "Neoplasms = list(range(140,249))"
   ]
  },
  {
   "cell_type": "code",
   "execution_count": 159,
   "metadata": {},
   "outputs": [],
   "source": [
    "diag_mapping = {\"circulatory_desease\":circulatory_desease, 'respiratory_desease':respiratory_desease,\n",
    "               'digestive_desease':digestive_desease, 'genitourinary_desease':genitourinary_desease,\n",
    "               'diabete':diabete, 'poisoning_Injury':poisoning_Injury, 'musculoskeletal_connective_tissue':musculoskeletal_connective_tissue,\n",
    "               'Neoplasms':Neoplasms}"
   ]
  },
  {
   "cell_type": "code",
   "execution_count": 160,
   "metadata": {},
   "outputs": [],
   "source": [
    "def mapp_diagnosis(series:pd.Series):\n",
    "    \"\"\"This function first make column as numeric.\n",
    "    Then it maps values to categories,\n",
    "    if it doesn't find value, it assigns 'other' to it and\n",
    "    if the value is missing it remains NaN\"\"\"\n",
    "    \n",
    "    def make_numeric(series):\n",
    "        \"\"\"Making column numeric at the same convert ? as Na, we will need this in the future\"\"\"\n",
    "        return pd.to_numeric(series.copy(deep=True), errors='coerce')\n",
    "    \n",
    "    new =  make_numeric(series)\n",
    "    for index,num in enumerate(new):\n",
    "        if not pd.isna(num):\n",
    "            for key,value in diag_mapping.items():\n",
    "                if num in value:\n",
    "                    new[index]=key\n",
    "                    break\n",
    "            else:\n",
    "                new[index]='other'\n",
    "    return new"
   ]
  },
  {
   "cell_type": "code",
   "execution_count": 161,
   "metadata": {},
   "outputs": [],
   "source": [
    "train_data[['diag_1','diag_2','diag_3']] = train_data[['diag_1','diag_2','diag_3']].apply(mapp_diagnosis)\n",
    "test_data[['diag_1','diag_2','diag_3']] = test_data[['diag_1','diag_2','diag_3']].apply(mapp_diagnosis)"
   ]
  },
  {
   "cell_type": "markdown",
   "metadata": {},
   "source": [
    "<div class=\"alert alert-block alert-danger\">\n",
    "<b>Note:</b> Diagnosis variables might be dependent each other, but we can't calculate correlation\n",
    "</div>\n",
    "\n",
    "<div class=\"alert alert-block alert-success\">\n",
    "<b>Solution:</b> For this type of problem we are going to do Mixed Proximity Measure\n",
    "</div>\n"
   ]
  },
  {
   "cell_type": "markdown",
   "metadata": {},
   "source": [
    "Let's define function for nominal variables at.I'll use for it simple match $$d(i,j)=\\frac{p-m}{p}$$<br>\n",
    "Where p is number of nominal variables and p is the number of matches, if the value is 0 they are identical,close each other<br>and contrary as close it is to 1 as dissimilar they are"
   ]
  },
  {
   "cell_type": "code",
   "execution_count": 162,
   "metadata": {},
   "outputs": [],
   "source": [
    "def simple_match(data,col1,col2):\n",
    "    \"\"\"calculates simple match, where p is number of nominal attributes\n",
    "    m is number of matches\"\"\"\n",
    "    m = (data.dropna()[col1]==data.dropna()[col2]).sum() # we need to drop na otherwise series sizes will be different\n",
    "    p = len(data.dropna())##dropping NAs are necessary otherwise we can't compare them \n",
    "    return (p-m)/p"
   ]
  },
  {
   "cell_type": "code",
   "execution_count": 163,
   "metadata": {},
   "outputs": [
    {
     "name": "stdout",
     "output_type": "stream",
     "text": [
      "Dissimilarity scores for diag1 and diag2 is 0.641, for diag1 and diag3 is 0.707       \n",
      " and columns diag2 and diag 3 is 0.706\n"
     ]
    }
   ],
   "source": [
    "score1 = simple_match(train_data,'diag_1','diag_2') #dissimality score for diag1 and diag2\n",
    "score2 = simple_match(train_data,'diag_1','diag_3')#dissimality score for diag1 and diag3\n",
    "score3 = simple_match(train_data,'diag_2','diag_3')#dissimality score for diag2 and diag3\n",
    "\n",
    "print(\"Dissimilarity scores for diag1 and diag2 is {:.3}, for diag1 and diag3 is {:.3} \\\n",
    "      \\n and columns diag2 and diag 3 is {:.3}\".format(*[score1,score2,score3]))"
   ]
  },
  {
   "cell_type": "code",
   "execution_count": 164,
   "metadata": {},
   "outputs": [
    {
     "data": {
      "text/plain": [
       "diag_1    1238\n",
       "diag_2    2196\n",
       "diag_3    4815\n",
       "dtype: int64"
      ]
     },
     "execution_count": 164,
     "metadata": {},
     "output_type": "execute_result"
    }
   ],
   "source": [
    "train_data[['diag_1','diag_2','diag_3']].apply(lambda x:pd.isna(x).sum())\n",
    "#number of missing values"
   ]
  },
  {
   "cell_type": "markdown",
   "metadata": {},
   "source": [
    "It is not the result that I expected however I'll keep only primary diagnosis as in the [artice](https://downloads.hindawi.com/journals/bmri/2014/781670.pdf) they kept only this variable, I guess the reason is\n",
    "diag1 has the least number of missing values compared to the other diagnosis columns"
   ]
  },
  {
   "cell_type": "markdown",
   "metadata": {},
   "source": [
    "Checking whether there readmitted observations with missing values in primary diagnosis."
   ]
  },
  {
   "cell_type": "code",
   "execution_count": 165,
   "metadata": {
    "scrolled": true
   },
   "outputs": [],
   "source": [
    "train_data.readmitted = train_data.readmitted.apply(lambda x:1 if x=='<30' else 0)\n",
    "test_data.readmitted = test_data.readmitted.apply(lambda x:1 if x=='<30' else 0)"
   ]
  },
  {
   "cell_type": "code",
   "execution_count": 166,
   "metadata": {
    "scrolled": true
   },
   "outputs": [],
   "source": [
    "train_data.readmitted = train_data.readmitted.astype('category')\n",
    "test_data.readmitted = test_data.readmitted.astype('category')"
   ]
  },
  {
   "cell_type": "markdown",
   "metadata": {},
   "source": [
    "<div class=\"alert alert-block alert-warning\">\n",
    "<b>Missing_values:</b> \n",
    "As we have missing values this variable seems important feature I'll use KNN to fill them later,\n",
    "</div>\n",
    "\n",
    "\n",
    "motivated by [this article](https://machinelearningmastery.com/knn-imputation-for-missing-values-in-machine-learning/)"
   ]
  },
  {
   "cell_type": "code",
   "execution_count": 167,
   "metadata": {},
   "outputs": [],
   "source": [
    "columns_should_be_dropped.extend(['diag_2','diag_3'])"
   ]
  },
  {
   "cell_type": "code",
   "execution_count": 168,
   "metadata": {},
   "outputs": [
    {
     "data": {
      "text/plain": [
       "max_glu_serum    72359\n",
       "A1Cresult        63459\n",
       "dtype: int64"
      ]
     },
     "execution_count": 168,
     "metadata": {},
     "output_type": "execute_result"
    }
   ],
   "source": [
    "train_data[['max_glu_serum','A1Cresult']] = train_data[['max_glu_serum','A1Cresult']].replace(\"None\",np.nan)\n",
    "test_data[['max_glu_serum','A1Cresult']] = test_data[['max_glu_serum','A1Cresult']].replace(\"None\",np.nan)\n",
    "train_data[['max_glu_serum','A1Cresult']].apply(lambda x:pd.isna(x).sum())\n",
    "## we will drop those columns too as there are many missing values"
   ]
  },
  {
   "cell_type": "markdown",
   "metadata": {},
   "source": [
    "Those columns above have many missing values,so will drop them as well"
   ]
  },
  {
   "cell_type": "code",
   "execution_count": 169,
   "metadata": {},
   "outputs": [],
   "source": [
    "columns_should_be_dropped.extend(['max_glu_serum','A1Cresult'])"
   ]
  },
  {
   "cell_type": "code",
   "execution_count": 170,
   "metadata": {},
   "outputs": [],
   "source": [
    "# dropping unnecessary columns\n",
    "train_data.drop(columns=columns_should_be_dropped, inplace=True)\n",
    "test_data.drop(columns=columns_should_be_dropped, inplace=True)\n"
   ]
  },
  {
   "cell_type": "code",
   "execution_count": 171,
   "metadata": {
    "scrolled": true
   },
   "outputs": [],
   "source": [
    "\"Number of Missing values for race variable is {}, I'll fill them as 'not applicable'\".format(len(train_data[(train_data['race']=='?')]))\n",
    "train_data['race'] = train_data['race'].replace(\"?\",np.nan)\n",
    "test_data['race']  = test_data['race'].replace(\"?\",np.nan)\n",
    "train_data['race'] = train_data['race'].fillna(value = 'not_applicable')\n",
    "test_data['race']  = test_data['race'].fillna(value = 'not_applicable')"
   ]
  },
  {
   "cell_type": "code",
   "execution_count": 172,
   "metadata": {},
   "outputs": [],
   "source": [
    "#makin nan in appropriate format as they were in string format\n",
    "train_data['admission_type'] = train_data['admission_type'].fillna('not_applicable')\n",
    "train_data['dischargeDisposition'] = train_data['dischargeDisposition'].fillna('not_applicable')\n",
    "train_data['admission_source'] = train_data['admission_source'].fillna('not_applicable')\n",
    "\n",
    "\n",
    "test_data['admission_type'] = test_data['admission_type'].fillna('not_applicable')\n",
    "test_data['dischargeDisposition']= test_data['dischargeDisposition'].fillna('not_applicable')\n",
    "test_data['admission_source'] = test_data['admission_source'].fillna('not_applicable')"
   ]
  },
  {
   "cell_type": "code",
   "execution_count": 173,
   "metadata": {},
   "outputs": [],
   "source": [
    "## the code below tries to find columns that has only variable, we don't need such columns\n",
    "other_unnecessary_columns = []\n",
    "df_num_temporary_variable = train_data.select_dtypes(exclude=\"object\")## we divide data in this groups to check variance, \n",
    "df_object_temporary=train_data.select_dtypes(include=\"object\")#if there is exict a column containing only one value\n",
    "for i in df_num_temporary_variable:\n",
    "    try:\n",
    "        if df_num_temporary_variable[i].var()==0:\n",
    "            other_unnecessary_columns.append(df_num_temporary_variable[i].name)\n",
    "    except:\n",
    "        continue\n",
    "other_unnecessary_columns.extend([i for i in df_object_temporary.columns if len(df_object_temporary[i].unique())==1])"
   ]
  },
  {
   "cell_type": "code",
   "execution_count": 174,
   "metadata": {},
   "outputs": [
    {
     "data": {
      "text/plain": [
       "['examide', 'citoglipton', 'glimepiride-pioglitazone']"
      ]
     },
     "execution_count": 174,
     "metadata": {},
     "output_type": "execute_result"
    }
   ],
   "source": [
    "other_unnecessary_columns"
   ]
  },
  {
   "cell_type": "code",
   "execution_count": 175,
   "metadata": {},
   "outputs": [],
   "source": [
    "df_object_temporary.drop(columns=other_unnecessary_columns, inplace=True)## I'll need this later\n",
    "train_data.drop(columns=other_unnecessary_columns, inplace=True)\n",
    "test_data.drop(columns=other_unnecessary_columns, inplace=True)"
   ]
  },
  {
   "cell_type": "markdown",
   "metadata": {},
   "source": [
    "# High cardianlity\n",
    "<div class=\"alert alert-block alert-success\">\n",
    "<b>High cardinallity:</b> A categorical feature is said to possess high cardinality when there are too many of these unique values. One-Hot Encoding becomes a big problem in such a case since we have a separate column for each unique value (indicating its presence or absence) in the categorical variable. This leads to two problems, one is obviously space consumption, but this is not as big a problem as the second problem, the curse of dimensionality.<br>\n",
    "\n",
    "In classical non-parametric learning algorithms (e.g. nearest-neighbor, Gaussian kernel SVM, Gaussian kernel Gaussian Process, etc.) the model needs to see at least one example for each of these combinations (or at least as many as necessary to cover all the variations of configurations of interest), in order to produce a correct answer, one that is different from the target value required for other nearby configurations.<br>\n",
    "\n",
    "There is a workaround to this, that is the model even in the absence of a lot of training data can discern between configurations (not in the training set) for future predictions provided there is some sort of structure (pattern) in these combinations. In most cases, high cardinality makes it difficult for the model to identify such patterns and hence the model doesn’t generalise well to examples outside the training set.<br>\n",
    "\n",
    "Reducing Cardinality by using a simple Aggregating function\n",
    "Below will be a simple function I'll to reduce the cardinality of a feature. The idea is very simple. Leave instances belonging to a value with high frequency as they are and replace the other instances with a new category which we will call other.\n",
    "</div>\n",
    "\n"
   ]
  },
  {
   "cell_type": "markdown",
   "metadata": {},
   "source": [
    "[The link of the article](https://towardsdatascience.com/dealing-with-features-that-have-high-cardinality-1c9212d7ff1b)"
   ]
  },
  {
   "cell_type": "code",
   "execution_count": 176,
   "metadata": {
    "scrolled": true
   },
   "outputs": [
    {
     "data": {
      "image/png": "[encoded data removed]",
      "text/plain": [
       "<Figure size 432x288 with 1 Axes>"
      ]
     },
     "metadata": {
      "needs_background": "light"
     },
     "output_type": "display_data"
    },
    {
     "name": "stdout",
     "output_type": "stream",
     "text": [
      "readmitted  race           \n",
      "0           Caucasian          66.222944\n",
      "            AfricanAmerican    16.843981\n",
      "            not_applicable      2.055710\n",
      "            Hispanic            1.777947\n",
      "            Other               1.371783\n",
      "            Asian               0.567318\n",
      "1           Caucasian           8.377444\n",
      "            AfricanAmerican     2.178869\n",
      "            Hispanic            0.210943\n",
      "            not_applicable      0.182118\n",
      "            Other               0.148053\n",
      "            Asian               0.062890\n",
      "Name: race, dtype: float64\n"
     ]
    },
    {
     "data": {
      "image/png": "[encoded data removed]",
      "text/plain": [
       "<Figure size 432x288 with 1 Axes>"
      ]
     },
     "metadata": {
      "needs_background": "light"
     },
     "output_type": "display_data"
    },
    {
     "name": "stdout",
     "output_type": "stream",
     "text": [
      "readmitted  gender         \n",
      "0           Female             47.687490\n",
      "            Male               41.148263\n",
      "            Unknown/Invalid     0.003931\n",
      "1           Female              6.041350\n",
      "            Male                5.118967\n",
      "Name: gender, dtype: float64\n"
     ]
    },
    {
     "data": {
      "image/png": "[encoded data removed]",
      "text/plain": [
       "<Figure size 432x288 with 1 Axes>"
      ]
     },
     "metadata": {
      "needs_background": "light"
     },
     "output_type": "display_data"
    },
    {
     "name": "stdout",
     "output_type": "stream",
     "text": [
      "readmitted  age     \n",
      "0           [70-80)     22.532886\n",
      "            [60-70)     19.518107\n",
      "            [50-60)     15.449924\n",
      "            [80-90)     14.832818\n",
      "            [40-50)      8.570043\n",
      "            [30-40)      3.270269\n",
      "            [90-100)     2.485457\n",
      "            [20-30)      1.408469\n",
      "            [10-20)      0.617106\n",
      "            [0-10)       0.154604\n",
      "1           [70-80)      2.980714\n",
      "            [60-70)      2.456632\n",
      "            [80-90)      2.029506\n",
      "            [50-60)      1.656098\n",
      "            [40-50)      1.035061\n",
      "            [30-40)      0.425816\n",
      "            [90-100)     0.302657\n",
      "            [20-30)      0.231906\n",
      "            [10-20)      0.039306\n",
      "            [0-10)       0.002620\n",
      "Name: age, dtype: float64\n"
     ]
    },
    {
     "data": {
      "image/png": "[encoded data removed]",
      "text/plain": [
       "<Figure size 432x288 with 1 Axes>"
      ]
     },
     "metadata": {
      "needs_background": "light"
     },
     "output_type": "display_data"
    },
    {
     "name": "stdout",
     "output_type": "stream",
     "text": [
      "readmitted  admission_type\n",
      "0           Emergency         46.986531\n",
      "            Elective          16.617316\n",
      "            Urgent            16.170536\n",
      "            not_applicable     4.579163\n",
      "            Not_Available      4.165138\n",
      "            Not_Mapped         0.292175\n",
      "            Trauma_Center      0.019653\n",
      "            Newborn            0.009171\n",
      "1           Emergency          6.151407\n",
      "            Urgent             1.984959\n",
      "            Elective           1.929930\n",
      "            not_applicable     0.559457\n",
      "            Not_Available      0.508359\n",
      "            Not_Mapped         0.024894\n",
      "            Newborn            0.001310\n",
      "Name: admission_type, dtype: float64\n"
     ]
    },
    {
     "data": {
      "image/png": "[encoded data removed]",
      "text/plain": [
       "<Figure size 432x288 with 1 Axes>"
      ]
     },
     "metadata": {
      "needs_background": "light"
     },
     "output_type": "display_data"
    },
    {
     "name": "stdout",
     "output_type": "stream",
     "text": [
      "readmitted  dischargeDisposition                                                                                     \n",
      "0           Discharged_to_home                                                                                           53.706567\n",
      "            Discharged_transferred_to_SNF                                                                                11.723704\n",
      "            Discharged_transferred_to_home_with_home_health_service                                                      11.139353\n",
      "            not_applicable                                                                                                3.160212\n",
      "            Discharged_transferred_to_another_short_term_hospital                                                         1.712436\n",
      "            Expired                                                                                                       1.568314\n",
      "            Discharged_transferred_to_another_rehab_fac_including_rehab_units_of_a_hospital_.                             1.413710\n",
      "            Discharged_transferred_to_another_type_of_inpatient_care_institution                                          0.930245\n",
      "            Not_Mapped                                                                                                    0.867355\n",
      "            Discharged_transferred_to_ICF                                                                                 0.670824\n",
      "            Left_AMA                                                                                                      0.529322\n",
      "            Discharged_transferred_to_a_long_term_care_hospital.                                                          0.391751\n",
      "            Hospice___home                                                                                                0.368167\n",
      "            Hospice___medical_facility                                                                                    0.344584\n",
      "            Discharged_transferred_to_home_under_care_of_Home_IV_provider                                                 0.095645\n",
      "            Discharged_transferred_referred_to_a_psychiatric_hospital_of_psychiatric_distinct_part_unit_of_a_hospital     0.089094\n",
      "            Discharged_transferred_to_a_nursing_facility_certified_under_Medicaid_but_not_certified_under_Medicare.       0.037996\n",
      "            Discharged_transferred_within_this_institution_to_Medicare_approved_swing_bed                                 0.037996\n",
      "            Admitted_as_an_inpatient_to_this_hospital                                                                     0.011792\n",
      "            Discharged_transferred_referred_another_institution_for_outpatient_services                                   0.009171\n",
      "            Discharged_transferred_referred_to_this_institution_for_outpatient_services                                   0.007861\n",
      "            Discharged_transferred_to_a_federal_health_care_facility.                                                     0.006551\n",
      "            Expired_at_home._Medicaid_only__hospice.                                                                      0.006551\n",
      "            Neonate_discharged_to_another_hospital_for_neonatal_aftercare                                                 0.006551\n",
      "            Expired_in_a_medical_facility._Medicaid_only__hospice.                                                        0.002620\n",
      "            Still_patient_or_expected_to_return_for_outpatient_services                                                   0.001310\n",
      "1           Discharged_to_home                                                                                            5.470101\n",
      "            Discharged_transferred_to_SNF                                                                                 2.029506\n",
      "            Discharged_transferred_to_home_with_home_health_service                                                       1.580106\n",
      "            Discharged_transferred_to_another_rehab_fac_including_rehab_units_of_a_hospital_.                             0.559457\n",
      "            not_applicable                                                                                                0.486086\n",
      "            Discharged_transferred_to_another_short_term_hospital                                                         0.330171\n",
      "            Discharged_transferred_to_another_type_of_inpatient_care_institution                                          0.248939\n",
      "            Discharged_transferred_to_ICF                                                                                 0.099575\n",
      "            Not_Mapped                                                                                                    0.091714\n",
      "            Left_AMA                                                                                                      0.081233\n",
      "            Discharged_transferred_referred_to_a_psychiatric_hospital_of_psychiatric_distinct_part_unit_of_a_hospital     0.052408\n",
      "            Discharged_transferred_to_a_long_term_care_hospital.                                                          0.034065\n",
      "            Discharged_transferred_within_this_institution_to_Medicare_approved_swing_bed                                 0.027514\n",
      "            Hospice___medical_facility                                                                                    0.022273\n",
      "            Hospice___home                                                                                                0.019653\n",
      "            Discharged_transferred_to_home_under_care_of_Home_IV_provider                                                 0.010482\n",
      "            Admitted_as_an_inpatient_to_this_hospital                                                                     0.009171\n",
      "            Discharged_transferred_to_a_nursing_facility_certified_under_Medicaid_but_not_certified_under_Medicare.       0.005241\n",
      "            Still_patient_or_expected_to_return_for_outpatient_services                                                   0.002620\n",
      "Name: dischargeDisposition, dtype: float64\n"
     ]
    },
    {
     "data": {
      "image/png": "[encoded data removed]",
      "text/plain": [
       "<Figure size 432x288 with 1 Axes>"
      ]
     },
     "metadata": {
      "needs_background": "light"
     },
     "output_type": "display_data"
    },
    {
     "name": "stdout",
     "output_type": "stream",
     "text": [
      "readmitted  admission_source                                         \n",
      "0           Emergency_Room                                               50.011792\n",
      "            Physician_Referral                                           25.909281\n",
      "            not_applicable                                                5.889366\n",
      "            Transfer_from_a_hospital                                      2.798595\n",
      "            Transfer_from_another_health_care_facility                    2.039987\n",
      "            Clinic_Referral                                               0.983963\n",
      "            Transfer_from_a_Skilled_Nursing_Facility_(SNF)                0.742886\n",
      "            HMO_Referral                                                  0.161155\n",
      "            Not_Mapped                                                    0.140192\n",
      "            Not_Available                                                 0.120539\n",
      "            Court_Law_Enforcement                                         0.013102\n",
      "            Transfer_from_critial_access_hospital                         0.010482\n",
      "            Transfer_from_hospital_inpt_same_fac_reslt_in_a_sep_claim     0.010482\n",
      "            Extramural_Birth                                              0.002620\n",
      "            Normal_Delivery                                               0.002620\n",
      "            Sick_Baby                                                     0.001310\n",
      "            Transfer_from_Ambulatory_Surgery_Center                       0.001310\n",
      "1           Emergency_Room                                                6.598187\n",
      "            Physician_Referral                                            3.060636\n",
      "            not_applicable                                                0.698339\n",
      "            Transfer_from_a_hospital                                      0.306588\n",
      "            Transfer_from_another_health_care_facility                    0.218804\n",
      "            Clinic_Referral                                               0.116608\n",
      "            Transfer_from_a_Skilled_Nursing_Facility_(SNF)                0.094335\n",
      "            HMO_Referral                                                  0.030135\n",
      "            Not_Mapped                                                    0.019653\n",
      "            Not_Available                                                 0.013102\n",
      "            Court_Law_Enforcement                                         0.002620\n",
      "            Transfer_from_hospital_inpt_same_fac_reslt_in_a_sep_claim     0.001310\n",
      "Name: admission_source, dtype: float64\n"
     ]
    },
    {
     "data": {
      "image/png": "[encoded data removed]",
      "text/plain": [
       "<Figure size 432x288 with 1 Axes>"
      ]
     },
     "metadata": {
      "needs_background": "light"
     },
     "output_type": "display_data"
    },
    {
     "name": "stdout",
     "output_type": "stream",
     "text": [
      "readmitted  diag_1                           \n",
      "0           circulatory_desease                  26.378334\n",
      "            other                                21.703527\n",
      "            respiratory_desease                  12.830826\n",
      "            digestive_desease                     8.304072\n",
      "            poisoning_Injury                      6.038730\n",
      "            genitourinary_desease                 4.469105\n",
      "            musculoskeletal_connective_tissue     4.410146\n",
      "            Neoplasms                             3.127457\n",
      "            diabete                               0.222735\n",
      "1           circulatory_desease                   3.396048\n",
      "            other                                 2.870657\n",
      "            respiratory_desease                   1.377024\n",
      "            digestive_desease                     1.003616\n",
      "            poisoning_Injury                      0.866045\n",
      "            genitourinary_desease                 0.550286\n",
      "            musculoskeletal_connective_tissue     0.457261\n",
      "            Neoplasms                             0.358996\n",
      "            diabete                               0.013102\n",
      "Name: diag_1, dtype: float64\n"
     ]
    },
    {
     "data": {
      "image/png": "[encoded data removed]",
      "text/plain": [
       "<Figure size 432x288 with 1 Axes>"
      ]
     },
     "metadata": {
      "needs_background": "light"
     },
     "output_type": "display_data"
    },
    {
     "name": "stdout",
     "output_type": "stream",
     "text": [
      "readmitted  metformin\n",
      "0           No           71.031392\n",
      "            Steady       16.323830\n",
      "            Up            0.997065\n",
      "            Down          0.487396\n",
      "1           No            9.212043\n",
      "            Steady        1.788428\n",
      "            Up            0.093024\n",
      "            Down          0.066820\n",
      "Name: metformin, dtype: float64\n"
     ]
    },
    {
     "data": {
      "image/png": "[encoded data removed]",
      "text/plain": [
       "<Figure size 432x288 with 1 Axes>"
      ]
     },
     "metadata": {
      "needs_background": "light"
     },
     "output_type": "display_data"
    },
    {
     "name": "stdout",
     "output_type": "stream",
     "text": [
      "readmitted  repaglinide\n",
      "0           No             87.525549\n",
      "            Steady          1.172632\n",
      "            Up              0.095645\n",
      "            Down            0.045857\n",
      "1           No             10.965096\n",
      "            Steady          0.175567\n",
      "            Up              0.017033\n",
      "            Down            0.002620\n",
      "Name: repaglinide, dtype: float64\n"
     ]
    },
    {
     "data": {
      "image/png": "[encoded data removed]",
      "text/plain": [
       "<Figure size 432x288 with 1 Axes>"
      ]
     },
     "metadata": {
      "needs_background": "light"
     },
     "output_type": "display_data"
    },
    {
     "name": "stdout",
     "output_type": "stream",
     "text": [
      "readmitted  nateglinide\n",
      "0           No             88.233059\n",
      "            Steady          0.575179\n",
      "            Up              0.019653\n",
      "            Down            0.011792\n",
      "1           No             11.088255\n",
      "            Steady          0.072061\n",
      "Name: nateglinide, dtype: float64\n"
     ]
    },
    {
     "data": {
      "image/png": "[encoded data removed]",
      "text/plain": [
       "<Figure size 432x288 with 1 Axes>"
      ]
     },
     "metadata": {
      "needs_background": "light"
     },
     "output_type": "display_data"
    },
    {
     "name": "stdout",
     "output_type": "stream",
     "text": [
      "readmitted  chlorpropamide\n",
      "0           No                88.758451\n",
      "            Steady             0.074682\n",
      "            Up                 0.005241\n",
      "            Down               0.001310\n",
      "1           No                11.155076\n",
      "            Steady             0.005241\n",
      "Name: chlorpropamide, dtype: float64\n"
     ]
    },
    {
     "data": {
      "image/png": "[encoded data removed]",
      "text/plain": [
       "<Figure size 432x288 with 1 Axes>"
      ]
     },
     "metadata": {
      "needs_background": "light"
     },
     "output_type": "display_data"
    },
    {
     "name": "stdout",
     "output_type": "stream",
     "text": [
      "readmitted  glimepiride\n",
      "0           No             84.229076\n",
      "            Steady          4.166448\n",
      "            Up              0.281694\n",
      "            Down            0.162465\n",
      "1           No             10.640166\n",
      "            Steady          0.457261\n",
      "            Up              0.035376\n",
      "            Down            0.027514\n",
      "Name: glimepiride, dtype: float64\n"
     ]
    },
    {
     "data": {
      "image/png": "[encoded data removed]",
      "text/plain": [
       "<Figure size 432x288 with 1 Axes>"
      ]
     },
     "metadata": {
      "needs_background": "light"
     },
     "output_type": "display_data"
    },
    {
     "name": "stdout",
     "output_type": "stream",
     "text": [
      "readmitted  acetohexamide\n",
      "0           No               88.838373\n",
      "            Steady            0.001310\n",
      "1           No               11.160317\n",
      "Name: acetohexamide, dtype: float64\n"
     ]
    },
    {
     "data": {
      "image/png": "[encoded data removed]",
      "text/plain": [
       "<Figure size 432x288 with 1 Axes>"
      ]
     },
     "metadata": {
      "needs_background": "light"
     },
     "output_type": "display_data"
    },
    {
     "name": "stdout",
     "output_type": "stream",
     "text": [
      "readmitted  glipizide\n",
      "0           No           77.828730\n",
      "            Steady        9.919553\n",
      "            Up            0.643310\n",
      "            Down          0.448090\n",
      "1           No            9.747917\n",
      "            Steady        1.226351\n",
      "            Up            0.103506\n",
      "            Down          0.082543\n",
      "Name: glipizide, dtype: float64\n"
     ]
    },
    {
     "data": {
      "image/png": "[encoded data removed]",
      "text/plain": [
       "<Figure size 432x288 with 1 Axes>"
      ]
     },
     "metadata": {
      "needs_background": "light"
     },
     "output_type": "display_data"
    },
    {
     "name": "stdout",
     "output_type": "stream",
     "text": [
      "readmitted  glyburide\n",
      "0           No           79.526754\n",
      "            Steady        8.089199\n",
      "            Up            0.724543\n",
      "            Down          0.499188\n",
      "1           No           10.040092\n",
      "            Steady        0.976102\n",
      "            Up            0.083853\n",
      "            Down          0.060269\n",
      "Name: glyburide, dtype: float64\n"
     ]
    },
    {
     "data": {
      "image/png": "[encoded data removed]",
      "text/plain": [
       "<Figure size 432x288 with 1 Axes>"
      ]
     },
     "metadata": {
      "needs_background": "light"
     },
     "output_type": "display_data"
    },
    {
     "name": "stdout",
     "output_type": "stream",
     "text": [
      "readmitted  tolbutamide\n",
      "0           No             88.820030\n",
      "            Steady          0.019653\n",
      "1           No             11.160317\n",
      "Name: tolbutamide, dtype: float64\n"
     ]
    },
    {
     "data": {
      "image/png": "[encoded data removed]",
      "text/plain": [
       "<Figure size 432x288 with 1 Axes>"
      ]
     },
     "metadata": {
      "needs_background": "light"
     },
     "output_type": "display_data"
    },
    {
     "name": "stdout",
     "output_type": "stream",
     "text": [
      "readmitted  pioglitazone\n",
      "0           No              82.407893\n",
      "            Steady           6.131754\n",
      "            Up               0.199151\n",
      "            Down             0.100886\n",
      "1           No              10.410880\n",
      "            Steady           0.706200\n",
      "            Up               0.026204\n",
      "            Down             0.017033\n",
      "Name: pioglitazone, dtype: float64\n"
     ]
    },
    {
     "data": {
      "image/png": "[encoded data removed]",
      "text/plain": [
       "<Figure size 432x288 with 1 Axes>"
      ]
     },
     "metadata": {
      "needs_background": "light"
     },
     "output_type": "display_data"
    },
    {
     "name": "stdout",
     "output_type": "stream",
     "text": [
      "readmitted  rosiglitazone\n",
      "0           No               83.195325\n",
      "            Steady            5.408522\n",
      "            Up                0.155914\n",
      "            Down              0.079922\n",
      "1           No               10.531419\n",
      "            Steady            0.609245\n",
      "            Up                0.018343\n",
      "            Down              0.001310\n",
      "Name: rosiglitazone, dtype: float64\n"
     ]
    },
    {
     "data": {
      "image/png": "[encoded data removed]",
      "text/plain": [
       "<Figure size 432x288 with 1 Axes>"
      ]
     },
     "metadata": {
      "needs_background": "light"
     },
     "output_type": "display_data"
    },
    {
     "name": "stdout",
     "output_type": "stream",
     "text": [
      "readmitted  acarbose\n",
      "0           No          88.565851\n",
      "            Steady       0.263351\n",
      "            Up           0.007861\n",
      "            Down         0.002620\n",
      "1           No          11.135423\n",
      "            Steady       0.022273\n",
      "            Down         0.001310\n",
      "            Up           0.001310\n",
      "Name: acarbose, dtype: float64\n"
     ]
    },
    {
     "data": {
      "image/png": "[encoded data removed]",
      "text/plain": [
       "<Figure size 432x288 with 1 Axes>"
      ]
     },
     "metadata": {
      "needs_background": "light"
     },
     "output_type": "display_data"
    },
    {
     "name": "stdout",
     "output_type": "stream",
     "text": [
      "readmitted  miglitol\n",
      "0           No          88.802998\n",
      "            Steady       0.031445\n",
      "            Down         0.003931\n",
      "            Up           0.001310\n",
      "1           No          11.156386\n",
      "            Steady       0.002620\n",
      "            Down         0.001310\n",
      "Name: miglitol, dtype: float64\n"
     ]
    },
    {
     "data": {
      "image/png": "[encoded data removed]",
      "text/plain": [
       "<Figure size 432x288 with 1 Axes>"
      ]
     },
     "metadata": {
      "needs_background": "light"
     },
     "output_type": "display_data"
    },
    {
     "name": "stdout",
     "output_type": "stream",
     "text": [
      "readmitted  troglitazone\n",
      "0           No              88.837063\n",
      "            Steady           0.002620\n",
      "1           No              11.160317\n",
      "Name: troglitazone, dtype: float64\n"
     ]
    },
    {
     "data": {
      "image/png": "[encoded data removed]",
      "text/plain": [
       "<Figure size 432x288 with 1 Axes>"
      ]
     },
     "metadata": {
      "needs_background": "light"
     },
     "output_type": "display_data"
    },
    {
     "name": "stdout",
     "output_type": "stream",
     "text": [
      "readmitted  tolazamide\n",
      "0           No            88.804308\n",
      "            Steady         0.034065\n",
      "            Up             0.001310\n",
      "1           No            11.157696\n",
      "            Steady         0.002620\n",
      "Name: tolazamide, dtype: float64\n"
     ]
    },
    {
     "data": {
      "image/png": "[encoded data removed]",
      "text/plain": [
       "<Figure size 432x288 with 1 Axes>"
      ]
     },
     "metadata": {
      "needs_background": "light"
     },
     "output_type": "display_data"
    },
    {
     "name": "stdout",
     "output_type": "stream",
     "text": [
      "readmitted  insulin\n",
      "0           No         41.722132\n",
      "            Steady     26.932551\n",
      "            Down       10.392537\n",
      "            Up          9.792464\n",
      "1           No          4.651224\n",
      "            Steady      3.402599\n",
      "            Down        1.686232\n",
      "            Up          1.420261\n",
      "Name: insulin, dtype: float64\n"
     ]
    },
    {
     "data": {
      "image/png": "[encoded data removed]",
      "text/plain": [
       "<Figure size 432x288 with 1 Axes>"
      ]
     },
     "metadata": {
      "needs_background": "light"
     },
     "output_type": "display_data"
    },
    {
     "name": "stdout",
     "output_type": "stream",
     "text": [
      "readmitted  glyburide-metformin\n",
      "0           No                     88.225198\n",
      "            Steady                  0.598763\n",
      "            Up                      0.010482\n",
      "            Down                    0.005241\n",
      "1           No                     11.081704\n",
      "            Steady                  0.078612\n",
      "Name: glyburide-metformin, dtype: float64\n"
     ]
    },
    {
     "data": {
      "image/png": "[encoded data removed]",
      "text/plain": [
       "<Figure size 432x288 with 1 Axes>"
      ]
     },
     "metadata": {
      "needs_background": "light"
     },
     "output_type": "display_data"
    },
    {
     "name": "stdout",
     "output_type": "stream",
     "text": [
      "readmitted  glipizide-metformin\n",
      "0           No                     88.826581\n",
      "            Steady                  0.013102\n",
      "1           No                     11.159006\n",
      "            Steady                  0.001310\n",
      "Name: glipizide-metformin, dtype: float64\n"
     ]
    },
    {
     "data": {
      "image/png": "[encoded data removed]",
      "text/plain": [
       "<Figure size 432x288 with 1 Axes>"
      ]
     },
     "metadata": {
      "needs_background": "light"
     },
     "output_type": "display_data"
    },
    {
     "name": "stdout",
     "output_type": "stream",
     "text": [
      "readmitted  metformin-rosiglitazone\n",
      "0           No                         88.837063\n",
      "            Steady                      0.002620\n",
      "1           No                         11.160317\n",
      "Name: metformin-rosiglitazone, dtype: float64\n"
     ]
    },
    {
     "data": {
      "image/png": "[encoded data removed]",
      "text/plain": [
       "<Figure size 432x288 with 1 Axes>"
      ]
     },
     "metadata": {
      "needs_background": "light"
     },
     "output_type": "display_data"
    },
    {
     "name": "stdout",
     "output_type": "stream",
     "text": [
      "readmitted  metformin-pioglitazone\n",
      "0           No                        88.838373\n",
      "            Steady                     0.001310\n",
      "1           No                        11.160317\n",
      "Name: metformin-pioglitazone, dtype: float64\n"
     ]
    },
    {
     "data": {
      "image/png": "[encoded data removed]",
      "text/plain": [
       "<Figure size 432x288 with 1 Axes>"
      ]
     },
     "metadata": {
      "needs_background": "light"
     },
     "output_type": "display_data"
    },
    {
     "name": "stdout",
     "output_type": "stream",
     "text": [
      "readmitted  change\n",
      "0           No        47.939049\n",
      "            Ch        40.900634\n",
      "1           No         5.702007\n",
      "            Ch         5.458309\n",
      "Name: change, dtype: float64\n"
     ]
    },
    {
     "data": {
      "image/png": "[encoded data removed]",
      "text/plain": [
       "<Figure size 432x288 with 1 Axes>"
      ]
     },
     "metadata": {
      "needs_background": "light"
     },
     "output_type": "display_data"
    },
    {
     "name": "stdout",
     "output_type": "stream",
     "text": [
      "readmitted  diabetesMed\n",
      "0           Yes            68.197422\n",
      "            No             20.642262\n",
      "1           Yes             8.982758\n",
      "            No              2.177559\n",
      "Name: diabetesMed, dtype: float64\n"
     ]
    }
   ],
   "source": [
    "for col in df_object_temporary.columns:\n",
    "    sns.countplot(x=col,data=train_data)\n",
    "    plt.title(f\"Distribution of patients by {col}\")\n",
    "    plt.show()\n",
    "    #let's see percenatage of labels who didn't subscribe to term deposit,\n",
    "    #and percenatage of customers who subscribed to term deposit\n",
    "    print(train_data.groupby('readmitted')[col].value_counts()/len(train_data)*100)"
   ]
  },
  {
   "cell_type": "markdown",
   "metadata": {},
   "source": [
    "- Choose a threshold\n",
    "- Sort unique values in the column by their frequency in descending order\n",
    "- Keep adding the frequency of these sorted (descending) unique values until a threshold is reached.\n",
    "- These are the unique categories we will keep and instances of all other categories shall be replaced by “other”."
   ]
  },
  {
   "cell_type": "code",
   "execution_count": 177,
   "metadata": {},
   "outputs": [],
   "source": [
    "from collections import Counter\n",
    "def cumulatively_categorise(column,threshold=0.9,return_categories_list=False):\n",
    "  #Find the threshold value using the percentage and number of instances in the column\n",
    "  threshold_value=int(threshold*len(column))\n",
    "  #Initialise an empty list for our new minimised categories\n",
    "  categories_list=[]\n",
    "  #Initialise a variable to calculate the sum of frequencies\n",
    "  s=0\n",
    "  #Create a counter dictionary of the form unique_value: frequency\n",
    "  counts=Counter(column)\n",
    "\n",
    "  #Loop through the category name and its corresponding frequency after sorting the categories by descending order of frequency\n",
    "  for i,j in counts.most_common():\n",
    "    #Add the frequency to the global sum\n",
    "    s+=dict(counts)[i]\n",
    "    #Append the category name to the list\n",
    "    categories_list.append(i)\n",
    "    #Check if the global sum has reached the threshold value, if so break the loop\n",
    "    if s>=threshold_value:\n",
    "        break\n",
    "  #Append the category Other to the list\n",
    "  categories_list.append('Other')\n",
    "\n",
    "  #Replace all instances not in our new categories by Other  \n",
    "  new_column=column.apply(lambda x: x if x in categories_list else 'Other')\n",
    "\n",
    "  #Return transformed column and unique values if return_categories=True\n",
    "  if(return_categories_list):\n",
    "        return new_column\n",
    "  #Return only the transformed column if return_categories=False\n",
    "  else:\n",
    "        return new_column"
   ]
  },
  {
   "cell_type": "code",
   "execution_count": 178,
   "metadata": {},
   "outputs": [
    {
     "data": {
      "text/plain": [
       "Index(['diag_1'], dtype='object')"
      ]
     },
     "execution_count": 178,
     "metadata": {},
     "output_type": "execute_result"
    }
   ],
   "source": [
    "train_data.columns[train_data.isna().any()]\n",
    "# remember we still have null values in this column"
   ]
  },
  {
   "cell_type": "code",
   "execution_count": 179,
   "metadata": {},
   "outputs": [],
   "source": [
    "# I don't want to apply this function to the column diag_1 as we have null values there\n",
    "del df_object_temporary['diag_1']\n",
    "cols = df_object_temporary.columns\n",
    "train_data[cols] = df_object_temporary.apply(cumulatively_categorise)"
   ]
  },
  {
   "cell_type": "code",
   "execution_count": 180,
   "metadata": {},
   "outputs": [
    {
     "data": {
      "text/plain": [
       "readmitted\n",
       "0    361\n",
       "1     67\n",
       "Name: diag_1, dtype: int64"
      ]
     },
     "execution_count": 180,
     "metadata": {},
     "output_type": "execute_result"
    }
   ],
   "source": [
    "test_data.set_index('readmitted')['diag_1'].isna().sum(level=0)"
   ]
  },
  {
   "cell_type": "code",
   "execution_count": 181,
   "metadata": {},
   "outputs": [
    {
     "name": "stdout",
     "output_type": "stream",
     "text": [
      "****************************************************************************************************\n",
      "Columns race\n",
      "Caucasian          56938\n",
      "AfricanAmerican    14519\n",
      "Other               4867\n",
      "Name: race, dtype: int64\n",
      "\n",
      "\n",
      "****************************************************************************************************\n",
      "Columns gender\n",
      "Female    41008\n",
      "Male      35313\n",
      "Other         3\n",
      "Name: gender, dtype: int64\n",
      "\n",
      "\n",
      "****************************************************************************************************\n",
      "Columns age\n",
      "[70-80)    19473\n",
      "[60-70)    16772\n",
      "[50-60)    13056\n",
      "[80-90)    12870\n",
      "[40-50)     7331\n",
      "Other       6822\n",
      "Name: age, dtype: int64\n",
      "\n",
      "\n",
      "****************************************************************************************************\n",
      "Columns admission_type\n",
      "Emergency         40557\n",
      "Elective          14156\n",
      "Urgent            13857\n",
      "not_applicable     3922\n",
      "Other              3832\n",
      "Name: admission_type, dtype: int64\n",
      "\n",
      "\n",
      "****************************************************************************************************\n",
      "Columns dischargeDisposition\n",
      "Discharged_to_home                                         45166\n",
      "Discharged_transferred_to_SNF                              10497\n",
      "Discharged_transferred_to_home_with_home_health_service     9708\n",
      "Other                                                       6611\n",
      "not_applicable                                              2783\n",
      "Discharged_transferred_to_another_short_term_hospital       1559\n",
      "Name: dischargeDisposition, dtype: int64\n",
      "\n",
      "\n",
      "****************************************************************************************************\n",
      "Columns admission_source\n",
      "Emergency_Room        43207\n",
      "Physician_Referral    22111\n",
      "Other                  5978\n",
      "not_applicable         5028\n",
      "Name: admission_source, dtype: int64\n",
      "\n",
      "\n",
      "****************************************************************************************************\n",
      "Columns metformin\n",
      "No        61245\n",
      "Steady    13824\n",
      "Other      1255\n",
      "Name: metformin, dtype: int64\n",
      "\n",
      "\n",
      "****************************************************************************************************\n",
      "Columns repaglinide\n",
      "No       75172\n",
      "Other     1152\n",
      "Name: repaglinide, dtype: int64\n",
      "\n",
      "\n",
      "****************************************************************************************************\n",
      "Columns nateglinide\n",
      "No       75806\n",
      "Other      518\n",
      "Name: nateglinide, dtype: int64\n",
      "\n",
      "\n",
      "****************************************************************************************************\n",
      "Columns chlorpropamide\n",
      "No       76258\n",
      "Other       66\n",
      "Name: chlorpropamide, dtype: int64\n",
      "\n",
      "\n",
      "****************************************************************************************************\n",
      "Columns glimepiride\n",
      "No       72408\n",
      "Other     3916\n",
      "Name: glimepiride, dtype: int64\n",
      "\n",
      "\n",
      "****************************************************************************************************\n",
      "Columns acetohexamide\n",
      "No       76323\n",
      "Other        1\n",
      "Name: acetohexamide, dtype: int64\n",
      "\n",
      "\n",
      "****************************************************************************************************\n",
      "Columns glipizide\n",
      "No        66842\n",
      "Steady     8507\n",
      "Other       975\n",
      "Name: glipizide, dtype: int64\n",
      "\n",
      "\n",
      "****************************************************************************************************\n",
      "Columns glyburide\n",
      "No        68361\n",
      "Steady     6919\n",
      "Other      1044\n",
      "Name: glyburide, dtype: int64\n",
      "\n",
      "\n",
      "****************************************************************************************************\n",
      "Columns tolbutamide\n",
      "No       76309\n",
      "Other       15\n",
      "Name: tolbutamide, dtype: int64\n",
      "\n",
      "\n",
      "****************************************************************************************************\n",
      "Columns pioglitazone\n",
      "No       70843\n",
      "Other     5481\n",
      "Name: pioglitazone, dtype: int64\n",
      "\n",
      "\n",
      "****************************************************************************************************\n",
      "Columns rosiglitazone\n",
      "No       71536\n",
      "Other     4788\n",
      "Name: rosiglitazone, dtype: int64\n",
      "\n",
      "\n",
      "****************************************************************************************************\n",
      "Columns acarbose\n",
      "No       76096\n",
      "Other      228\n",
      "Name: acarbose, dtype: int64\n",
      "\n",
      "\n",
      "****************************************************************************************************\n",
      "Columns miglitol\n",
      "No       76293\n",
      "Other       31\n",
      "Name: miglitol, dtype: int64\n",
      "\n",
      "\n",
      "****************************************************************************************************\n",
      "Columns troglitazone\n",
      "No       76322\n",
      "Other        2\n",
      "Name: troglitazone, dtype: int64\n",
      "\n",
      "\n",
      "****************************************************************************************************\n",
      "Columns tolazamide\n",
      "No       76295\n",
      "Other       29\n",
      "Name: tolazamide, dtype: int64\n",
      "\n",
      "\n",
      "****************************************************************************************************\n",
      "Columns insulin\n",
      "No        35394\n",
      "Steady    23153\n",
      "Down       9219\n",
      "Up         8558\n",
      "Name: insulin, dtype: int64\n",
      "\n",
      "\n",
      "****************************************************************************************************\n",
      "Columns glyburide-metformin\n",
      "No       75795\n",
      "Other      529\n",
      "Name: glyburide-metformin, dtype: int64\n",
      "\n",
      "\n",
      "****************************************************************************************************\n",
      "Columns glipizide-metformin\n",
      "No       76313\n",
      "Other       11\n",
      "Name: glipizide-metformin, dtype: int64\n",
      "\n",
      "\n",
      "****************************************************************************************************\n",
      "Columns metformin-rosiglitazone\n",
      "No       76322\n",
      "Other        2\n",
      "Name: metformin-rosiglitazone, dtype: int64\n",
      "\n",
      "\n",
      "****************************************************************************************************\n",
      "Columns metformin-pioglitazone\n",
      "No       76323\n",
      "Other        1\n",
      "Name: metformin-pioglitazone, dtype: int64\n",
      "\n",
      "\n",
      "****************************************************************************************************\n",
      "Columns change\n",
      "No    40941\n",
      "Ch    35383\n",
      "Name: change, dtype: int64\n",
      "\n",
      "\n",
      "****************************************************************************************************\n",
      "Columns diabetesMed\n",
      "Yes    58907\n",
      "No     17417\n",
      "Name: diabetesMed, dtype: int64\n",
      "\n",
      "\n"
     ]
    }
   ],
   "source": [
    "for i in train_data[cols]:\n",
    "    print(\"*\"*100)\n",
    "    print(\"Columns {}\".format(i))\n",
    "    print(train_data[i].value_counts())\n",
    "    print('\\n')"
   ]
  },
  {
   "cell_type": "markdown",
   "metadata": {},
   "source": [
    "I will also delete those columns where we have dominant levels  see the examples like tolbutamide  where only 15 values are other, we will not have need this type of values, because classification might make decision based on such features."
   ]
  },
  {
   "cell_type": "code",
   "execution_count": 182,
   "metadata": {},
   "outputs": [],
   "source": [
    "#gender 3 other"
   ]
  },
  {
   "cell_type": "code",
   "execution_count": 183,
   "metadata": {},
   "outputs": [],
   "source": [
    "high_cardinality = ['metformin-pioglitazone','metformin-rosiglitazone','glipizide-metformin','tolazamide',\n",
    "'troglitazone', 'miglitol', 'tolbutamide', 'chlorpropamide', 'acetohexamide']\n",
    "\n",
    "train_data.drop(columns=high_cardinality, inplace=True)\n",
    "test_data.drop(columns=high_cardinality, inplace=True)"
   ]
  },
  {
   "cell_type": "code",
   "execution_count": 184,
   "metadata": {},
   "outputs": [
    {
     "data": {
      "text/plain": [
       "array(['Male', 'Female', 'Other'], dtype=object)"
      ]
     },
     "execution_count": 184,
     "metadata": {},
     "output_type": "execute_result"
    }
   ],
   "source": [
    "train_data['gender'].unique()"
   ]
  },
  {
   "cell_type": "code",
   "execution_count": 185,
   "metadata": {},
   "outputs": [],
   "source": [
    "train_data = train_data[train_data.gender != 'Other']\n",
    "train_data.reset_index(inplace=True,drop=True)"
   ]
  },
  {
   "cell_type": "code",
   "execution_count": 186,
   "metadata": {},
   "outputs": [],
   "source": [
    "columns_need_to_be_processed = list(set(cols)-set(high_cardinality))\n",
    "for_test_data_mapping = dict(train_data[columns_need_to_be_processed].apply(lambda x:x.unique()))"
   ]
  },
  {
   "cell_type": "code",
   "execution_count": 187,
   "metadata": {},
   "outputs": [
    {
     "data": {
      "text/plain": [
       "{'nateglinide': array(['No', 'Other'], dtype=object),\n",
       " 'acarbose': array(['No', 'Other'], dtype=object),\n",
       " 'rosiglitazone': array(['No', 'Other'], dtype=object),\n",
       " 'glyburide': array(['No', 'Steady', 'Other'], dtype=object),\n",
       " 'diabetesMed': array(['No', 'Yes'], dtype=object),\n",
       " 'metformin': array(['No', 'Other', 'Steady'], dtype=object),\n",
       " 'insulin': array(['No', 'Steady', 'Up', 'Down'], dtype=object),\n",
       " 'admission_type': array(['Emergency', 'Elective', 'not_applicable', 'Urgent', 'Other'],\n",
       "       dtype=object),\n",
       " 'glipizide': array(['No', 'Other', 'Steady'], dtype=object),\n",
       " 'pioglitazone': array(['No', 'Other'], dtype=object),\n",
       " 'dischargeDisposition': array(['Other', 'Discharged_to_home',\n",
       "        'Discharged_transferred_to_home_with_home_health_service',\n",
       "        'not_applicable',\n",
       "        'Discharged_transferred_to_another_short_term_hospital',\n",
       "        'Discharged_transferred_to_SNF'], dtype=object),\n",
       " 'race': array(['AfricanAmerican', 'Caucasian', 'Other'], dtype=object),\n",
       " 'gender': array(['Male', 'Female'], dtype=object),\n",
       " 'glimepiride': array(['No', 'Other'], dtype=object),\n",
       " 'glyburide-metformin': array(['No', 'Other'], dtype=object),\n",
       " 'change': array(['No', 'Ch'], dtype=object),\n",
       " 'age': array(['[70-80)', '[60-70)', '[40-50)', '[80-90)', 'Other', '[50-60)'],\n",
       "       dtype=object),\n",
       " 'repaglinide': array(['No', 'Other'], dtype=object),\n",
       " 'admission_source': array(['Emergency_Room', 'Physician_Referral', 'Other', 'not_applicable'],\n",
       "       dtype=object)}"
      ]
     },
     "execution_count": 187,
     "metadata": {},
     "output_type": "execute_result"
    }
   ],
   "source": [
    "for_test_data_mapping"
   ]
  },
  {
   "cell_type": "code",
   "execution_count": 188,
   "metadata": {},
   "outputs": [],
   "source": [
    "for key in for_test_data_mapping:\n",
    "    for i in range(0, len(test_data)):\n",
    "        if test_data.loc[i,key] not in for_test_data_mapping[key]:\n",
    "            test_data.loc[i,key] = \"Other\"\n",
    "        "
   ]
  },
  {
   "cell_type": "markdown",
   "metadata": {},
   "source": [
    "Handling Missing values in diag_1"
   ]
  },
  {
   "cell_type": "code",
   "execution_count": 189,
   "metadata": {},
   "outputs": [],
   "source": [
    "for_knn_training = train_data[~train_data['diag_1'].isna()].drop('readmitted',1)"
   ]
  },
  {
   "cell_type": "code",
   "execution_count": 190,
   "metadata": {},
   "outputs": [],
   "source": [
    "from sklearn.neighbors import KNeighborsClassifier\n",
    "knn_num_data=for_knn_training.select_dtypes(exclude=\"object\")## we divide data in this groups to check variance, \n",
    "knn_object=for_knn_training.select_dtypes(include=\"object\")#\n",
    "knn_object.drop(columns=[\"diag_1\"],inplace=True)\n",
    "knn_dummies=pd.get_dummies(knn_object,columns=knn_object.columns,drop_first=True)\n",
    "x_train_knn = knn_dummies.join(knn_num_data)\n",
    "\n",
    "for_knn_test = test_data[test_data['diag_1'].isna()].drop('readmitted',1)\n",
    "knn_num_data_test=for_knn_test.select_dtypes(exclude=\"object\")## we divide data in this groups to check variance, \n",
    "knn_object_test=for_knn_test.select_dtypes(include=\"object\")#\n",
    "knn_object_test.drop(columns=[\"diag_1\"],inplace=True)\n",
    "knn_dummies_test=pd.get_dummies(knn_object_test,columns=knn_object_test.columns,drop_first=True)\n",
    "x_test =  knn_dummies_test.join(knn_num_data_test)\n",
    "\n",
    "\n",
    "x_test = x_test[x_test.columns.intersection(x_train_knn.columns)]\n",
    "x_train_knn = x_train_knn[x_train_knn.columns.intersection(x_test.columns)]\n",
    "\n",
    "y_train_knn = for_knn_training['diag_1']\n",
    "knn = KNeighborsClassifier(n_neighbors=5, metric='minkowski',p=2).fit(x_train_knn,y_train_knn)"
   ]
  },
  {
   "cell_type": "code",
   "execution_count": 191,
   "metadata": {},
   "outputs": [],
   "source": [
    "def fill_na(data):\n",
    "    knn_num_data_test=data.drop('readmitted',1).select_dtypes(exclude=\"object\")## we divide data in this groups to check variance, \n",
    "    knn_object_test=data.drop('readmitted',1).select_dtypes(include=\"object\")#\n",
    "    knn_object_test.drop(columns=[\"diag_1\"],inplace=True)\n",
    "    knn_dummies_test=pd.get_dummies(knn_object_test,columns=knn_object_test.columns,drop_first=True)\n",
    "    x_test =  knn_dummies_test.join(knn_num_data_test)\n",
    "    x_test = x_test[x_test.columns.intersection(x_train_knn.columns)]\n",
    "    return knn.predict(x_test)"
   ]
  },
  {
   "cell_type": "code",
   "execution_count": 192,
   "metadata": {},
   "outputs": [],
   "source": [
    "predicted = fill_na(train_data[train_data['diag_1'].isna()])\n",
    "train_data.loc[train_data['diag_1'].isna(),'diag_1'] = predicted\n",
    "predicted_test = fill_na(test_data[test_data['diag_1'].isna()])\n",
    "test_data.loc[test_data['diag_1'].isna(),'diag_1'] = predicted_test"
   ]
  },
  {
   "cell_type": "code",
   "execution_count": 193,
   "metadata": {},
   "outputs": [
    {
     "data": {
      "text/plain": [
       "False"
      ]
     },
     "execution_count": 193,
     "metadata": {},
     "output_type": "execute_result"
    }
   ],
   "source": [
    "train_data['diag_1'].isna().any()"
   ]
  },
  {
   "cell_type": "code",
   "execution_count": 195,
   "metadata": {},
   "outputs": [
    {
     "data": {
      "text/plain": [
       "False"
      ]
     },
     "execution_count": 195,
     "metadata": {},
     "output_type": "execute_result"
    }
   ],
   "source": [
    "test_data['diag_1'].isna().any()"
   ]
  },
  {
   "cell_type": "code",
   "execution_count": 202,
   "metadata": {},
   "outputs": [],
   "source": [
    "train_data.to_csv(\"cleaned_train.csv\",index=False)"
   ]
  },
  {
   "cell_type": "code",
   "execution_count": 203,
   "metadata": {},
   "outputs": [],
   "source": [
    "test_data.to_csv(\"cleaned_test.csv\",index=False)"
   ]
  }
 ],
 "metadata": {
  "kernelspec": {
   "display_name": "Python 3",
   "language": "python",
   "name": "python3"
  },
  "language_info": {
   "codemirror_mode": {
    "name": "ipython",
    "version": 3
   },
   "file_extension": ".py",
   "mimetype": "text/x-python",
   "name": "python",
   "nbconvert_exporter": "python",
   "pygments_lexer": "ipython3",
   "version": "3.8.5"
  }
 },
 "nbformat": 4,
 "nbformat_minor": 4
}
